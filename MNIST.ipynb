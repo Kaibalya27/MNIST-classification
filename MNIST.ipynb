{
  "nbformat": 4,
  "nbformat_minor": 0,
  "metadata": {
    "colab": {
      "provenance": [],
      "authorship_tag": "ABX9TyMj3xzvX7fJcMnmUKSPXpna",
      "include_colab_link": true
    },
    "kernelspec": {
      "name": "python3",
      "display_name": "Python 3"
    },
    "language_info": {
      "name": "python"
    }
  },
  "cells": [
    {
      "cell_type": "markdown",
      "metadata": {
        "id": "view-in-github",
        "colab_type": "text"
      },
      "source": [
        "<a href=\"https://colab.research.google.com/github/Kaibalya27/MNIST-classification/blob/main/MNIST.ipynb\" target=\"_parent\"><img src=\"https://colab.research.google.com/assets/colab-badge.svg\" alt=\"Open In Colab\"/></a>"
      ]
    },
    {
      "cell_type": "code",
      "source": [
        "import numpy as np\n",
        "import matplotlib.pyplot as plt\n",
        "import pandas as pd\n",
        "import tensorflow as tf\n",
        "from tensorflow import keras\n",
        "from keras.layers import *\n",
        "from keras.datasets import mnist\n",
        "from keras.models import Sequential"
      ],
      "metadata": {
        "id": "HcKSugEl5V4c"
      },
      "execution_count": 13,
      "outputs": []
    },
    {
      "cell_type": "code",
      "source": [
        "(x_train, y_train), (x_test, y_test) = mnist.load_data()"
      ],
      "metadata": {
        "colab": {
          "base_uri": "https://localhost:8080/"
        },
        "id": "a9whbkzT4XIA",
        "outputId": "9e2dbbd4-c95f-4f36-8a7f-8cfe392eecaa"
      },
      "execution_count": 7,
      "outputs": [
        {
          "output_type": "stream",
          "name": "stdout",
          "text": [
            "Downloading data from https://storage.googleapis.com/tensorflow/tf-keras-datasets/mnist.npz\n",
            "11490434/11490434 [==============================] - 0s 0us/step\n"
          ]
        }
      ]
    },
    {
      "cell_type": "code",
      "source": [
        "x_train.shape, y_train.shape, x_test.shape, y_test.shape"
      ],
      "metadata": {
        "colab": {
          "base_uri": "https://localhost:8080/"
        },
        "id": "ijq9P1Zi5DJ9",
        "outputId": "a397c226-4838-44ea-fdaa-5faa48a3024a"
      },
      "execution_count": 8,
      "outputs": [
        {
          "output_type": "execute_result",
          "data": {
            "text/plain": [
              "((60000, 28, 28), (60000,), (10000, 28, 28), (10000,))"
            ]
          },
          "metadata": {},
          "execution_count": 8
        }
      ]
    },
    {
      "cell_type": "code",
      "source": [
        "x_train= x_train/255\n",
        "x_test= x_test/255"
      ],
      "metadata": {
        "id": "0PgvY5Ce5PXc"
      },
      "execution_count": 12,
      "outputs": []
    },
    {
      "cell_type": "code",
      "source": [
        "callback=tf.keras.callbacks.EarlyStopping(monitor='val_accuracy',patience=5,restore_best_weights=True)"
      ],
      "metadata": {
        "id": "B_CRguHdJ8zm"
      },
      "execution_count": 34,
      "outputs": []
    },
    {
      "cell_type": "code",
      "source": [
        "ANN=Sequential()\n",
        "ANN.add(Flatten(input_shape=(28,28)))\n",
        "ANN.add(Dense(128,activation='relu'))\n",
        "ANN.add(Dense(10,activation='softmax'))\n",
        "ANN.compile(loss='sparse_categorical_crossentropy',optimizer='adam',metrics=['accuracy'])"
      ],
      "metadata": {
        "id": "XtwuffzG8fIh"
      },
      "execution_count": 38,
      "outputs": []
    },
    {
      "cell_type": "code",
      "source": [
        "ANN.fit(x_train,y_train,epochs=10,validation_data=(x_test,y_test),callbacks=[callback])"
      ],
      "metadata": {
        "colab": {
          "base_uri": "https://localhost:8080/"
        },
        "id": "qHSNwtYA7JcH",
        "outputId": "d48af98c-9bb4-4d84-89d6-b9303b092434"
      },
      "execution_count": 39,
      "outputs": [
        {
          "output_type": "stream",
          "name": "stdout",
          "text": [
            "Epoch 1/10\n",
            "1875/1875 [==============================] - 6s 3ms/step - loss: 0.2565 - accuracy: 0.9259 - val_loss: 0.1404 - val_accuracy: 0.9584\n",
            "Epoch 2/10\n",
            "1875/1875 [==============================] - 7s 4ms/step - loss: 0.1109 - accuracy: 0.9670 - val_loss: 0.0951 - val_accuracy: 0.9704\n",
            "Epoch 3/10\n",
            "1875/1875 [==============================] - 6s 3ms/step - loss: 0.0754 - accuracy: 0.9770 - val_loss: 0.0800 - val_accuracy: 0.9769\n",
            "Epoch 4/10\n",
            "1875/1875 [==============================] - 7s 4ms/step - loss: 0.0558 - accuracy: 0.9833 - val_loss: 0.0764 - val_accuracy: 0.9755\n",
            "Epoch 5/10\n",
            "1875/1875 [==============================] - 6s 3ms/step - loss: 0.0434 - accuracy: 0.9863 - val_loss: 0.0747 - val_accuracy: 0.9758\n",
            "Epoch 6/10\n",
            "1875/1875 [==============================] - 7s 4ms/step - loss: 0.0339 - accuracy: 0.9896 - val_loss: 0.0774 - val_accuracy: 0.9780\n",
            "Epoch 7/10\n",
            "1875/1875 [==============================] - 6s 3ms/step - loss: 0.0267 - accuracy: 0.9916 - val_loss: 0.0748 - val_accuracy: 0.9785\n",
            "Epoch 8/10\n",
            "1875/1875 [==============================] - 8s 4ms/step - loss: 0.0216 - accuracy: 0.9934 - val_loss: 0.0733 - val_accuracy: 0.9791\n",
            "Epoch 9/10\n",
            "1875/1875 [==============================] - 6s 3ms/step - loss: 0.0178 - accuracy: 0.9944 - val_loss: 0.0765 - val_accuracy: 0.9782\n",
            "Epoch 10/10\n",
            "1875/1875 [==============================] - 7s 4ms/step - loss: 0.0146 - accuracy: 0.9956 - val_loss: 0.0705 - val_accuracy: 0.9802\n"
          ]
        },
        {
          "output_type": "execute_result",
          "data": {
            "text/plain": [
              "<keras.src.callbacks.History at 0x7a3c9c7c1360>"
            ]
          },
          "metadata": {},
          "execution_count": 39
        }
      ]
    },
    {
      "cell_type": "code",
      "source": [
        "DNN=Sequential()\n",
        "DNN.add(Flatten(input_shape=(28,28)))\n",
        "DNN.add(Dense(128,activation='relu'))\n",
        "DNN.add(BatchNormalization())\n",
        "DNN.add(Dense(128,activation='relu'))\n",
        "DNN.add(BatchNormalization())\n",
        "DNN.add(Dense(64,activation='relu'))\n",
        "DNN.add(BatchNormalization())\n",
        "DNN.add(Dense(64,activation='relu'))\n",
        "DNN.add(BatchNormalization())\n",
        "DNN.add(Dense(10,activation='softmax'))\n",
        "DNN.compile(loss='sparse_categorical_crossentropy',optimizer='adam',metrics=['accuracy'])"
      ],
      "metadata": {
        "id": "xTESzDU07Qse"
      },
      "execution_count": 40,
      "outputs": []
    },
    {
      "cell_type": "code",
      "source": [
        "DNN.fit(x_train,y_train,epochs=10,validation_data=(x_test,y_test),callbacks=[callback])"
      ],
      "metadata": {
        "colab": {
          "base_uri": "https://localhost:8080/"
        },
        "id": "DK3blYkc9tjB",
        "outputId": "987d931e-0d1f-4292-e9c3-7f99ddc62136"
      },
      "execution_count": 41,
      "outputs": [
        {
          "output_type": "stream",
          "name": "stdout",
          "text": [
            "Epoch 1/10\n",
            "1875/1875 [==============================] - 14s 6ms/step - loss: 0.2955 - accuracy: 0.9094 - val_loss: 0.1477 - val_accuracy: 0.9561\n",
            "Epoch 2/10\n",
            "1875/1875 [==============================] - 9s 5ms/step - loss: 0.1448 - accuracy: 0.9549 - val_loss: 0.0863 - val_accuracy: 0.9724\n",
            "Epoch 3/10\n",
            "1875/1875 [==============================] - 8s 4ms/step - loss: 0.1131 - accuracy: 0.9640 - val_loss: 0.0959 - val_accuracy: 0.9713\n",
            "Epoch 4/10\n",
            "1875/1875 [==============================] - 10s 5ms/step - loss: 0.0945 - accuracy: 0.9702 - val_loss: 0.0815 - val_accuracy: 0.9736\n",
            "Epoch 5/10\n",
            "1875/1875 [==============================] - 10s 5ms/step - loss: 0.0800 - accuracy: 0.9746 - val_loss: 0.0795 - val_accuracy: 0.9769\n",
            "Epoch 6/10\n",
            "1875/1875 [==============================] - 8s 5ms/step - loss: 0.0701 - accuracy: 0.9773 - val_loss: 0.0746 - val_accuracy: 0.9784\n",
            "Epoch 7/10\n",
            "1875/1875 [==============================] - 10s 5ms/step - loss: 0.0648 - accuracy: 0.9793 - val_loss: 0.0772 - val_accuracy: 0.9762\n",
            "Epoch 8/10\n",
            "1875/1875 [==============================] - 10s 5ms/step - loss: 0.0567 - accuracy: 0.9812 - val_loss: 0.0702 - val_accuracy: 0.9791\n",
            "Epoch 9/10\n",
            "1875/1875 [==============================] - 9s 5ms/step - loss: 0.0519 - accuracy: 0.9832 - val_loss: 0.0708 - val_accuracy: 0.9795\n",
            "Epoch 10/10\n",
            "1875/1875 [==============================] - 10s 5ms/step - loss: 0.0449 - accuracy: 0.9854 - val_loss: 0.0746 - val_accuracy: 0.9796\n"
          ]
        },
        {
          "output_type": "execute_result",
          "data": {
            "text/plain": [
              "<keras.src.callbacks.History at 0x7a3c9c6304f0>"
            ]
          },
          "metadata": {},
          "execution_count": 41
        }
      ]
    },
    {
      "cell_type": "code",
      "source": [
        "import kerastuner as kt"
      ],
      "metadata": {
        "colab": {
          "base_uri": "https://localhost:8080/"
        },
        "id": "qtSSi0K992R-",
        "outputId": "d6112b99-018a-45ff-d714-bc2077d048bd"
      },
      "execution_count": 30,
      "outputs": [
        {
          "output_type": "stream",
          "name": "stderr",
          "text": [
            "<ipython-input-30-5fd8096cdee5>:1: DeprecationWarning: `import kerastuner` is deprecated, please use `import keras_tuner`.\n",
            "  import kerastuner as kt\n"
          ]
        }
      ]
    },
    {
      "cell_type": "code",
      "source": [
        "def ann(hp):\n",
        "  ANN=Sequential()\n",
        "  ANN.add(Flatten(input_shape=(28,28)))\n",
        "  for i in range(hp.Int('l',1,20)):\n",
        "    ANN.add(Dense(hp.Int('u'+str(i),28,784), activation=hp.Choice('a'+str(i),values=['relu','tanh','sigmoid','softmax','elu','selu'])))\n",
        "    ANN.add(Dropout(hp.Choice('D'+str(i),values=[0.1,0.2,0.3,0.4,0.5,0.6,0.7,0.8,0.9])))\n",
        "    ANN.add(BatchNormalization())\n",
        "  ANN.add(Dense(10,activation='softmax'))\n",
        "  ANN.compile(optimizer=hp.Choice('o',values=['adam','rmsprop','sgd','adagrad','nadam']),loss='sparse_categorical_crossentropy',metrics=['accuracy'])\n",
        "  return ANN"
      ],
      "metadata": {
        "id": "RwLPm6xY_Uq0"
      },
      "execution_count": 31,
      "outputs": []
    },
    {
      "cell_type": "code",
      "source": [
        "tuner=kt.RandomSearch(ann,objective='val_accuracy',max_trials=5,directory='project')\n",
        "tuner.search(x_train,y_train,epochs=10,validation_data=(x_test,y_test))"
      ],
      "metadata": {
        "colab": {
          "base_uri": "https://localhost:8080/"
        },
        "id": "uWmq__WDBT8Y",
        "outputId": "34036280-57d0-4b98-8f63-a5900eb9bb71"
      },
      "execution_count": 32,
      "outputs": [
        {
          "output_type": "stream",
          "name": "stdout",
          "text": [
            "Trial 5 Complete [00h 08m 27s]\n",
            "val_accuracy: 0.732200026512146\n",
            "\n",
            "Best val_accuracy So Far: 0.9760000109672546\n",
            "Total elapsed time: 00h 35m 19s\n"
          ]
        }
      ]
    },
    {
      "cell_type": "code",
      "source": [
        "model=tuner.get_best_models(num_models=1)[0]"
      ],
      "metadata": {
        "id": "K_HnrYT7BuF0"
      },
      "execution_count": 33,
      "outputs": []
    },
    {
      "cell_type": "code",
      "source": [
        "model.fit(x_train,y_train,epochs=50,validation_data=(x_test,y_test),callbacks=[callback])"
      ],
      "metadata": {
        "colab": {
          "base_uri": "https://localhost:8080/"
        },
        "id": "l0qNMz3wKbi3",
        "outputId": "d87906af-1ad9-4161-85d4-c85afe18cfa1"
      },
      "execution_count": 35,
      "outputs": [
        {
          "output_type": "stream",
          "name": "stdout",
          "text": [
            "Epoch 1/50\n",
            "1875/1875 [==============================] - 19s 10ms/step - loss: 0.1239 - accuracy: 0.9718 - val_loss: 0.1848 - val_accuracy: 0.9748\n",
            "Epoch 2/50\n",
            "1875/1875 [==============================] - 19s 10ms/step - loss: 0.1185 - accuracy: 0.9737 - val_loss: 0.1967 - val_accuracy: 0.9747\n",
            "Epoch 3/50\n",
            "1875/1875 [==============================] - 18s 10ms/step - loss: 0.1063 - accuracy: 0.9760 - val_loss: 0.1815 - val_accuracy: 0.9766\n",
            "Epoch 4/50\n",
            "1875/1875 [==============================] - 18s 10ms/step - loss: 0.1023 - accuracy: 0.9768 - val_loss: 0.1897 - val_accuracy: 0.9755\n",
            "Epoch 5/50\n",
            "1875/1875 [==============================] - 21s 11ms/step - loss: 0.0960 - accuracy: 0.9778 - val_loss: 0.1818 - val_accuracy: 0.9770\n",
            "Epoch 6/50\n",
            "1875/1875 [==============================] - 18s 9ms/step - loss: 0.0925 - accuracy: 0.9789 - val_loss: 0.1705 - val_accuracy: 0.9783\n",
            "Epoch 7/50\n",
            "1875/1875 [==============================] - 18s 9ms/step - loss: 0.0909 - accuracy: 0.9791 - val_loss: 0.1660 - val_accuracy: 0.9794\n",
            "Epoch 8/50\n",
            "1875/1875 [==============================] - 18s 10ms/step - loss: 0.0824 - accuracy: 0.9811 - val_loss: 0.1562 - val_accuracy: 0.9789\n",
            "Epoch 9/50\n",
            "1875/1875 [==============================] - 18s 10ms/step - loss: 0.0787 - accuracy: 0.9818 - val_loss: 0.1818 - val_accuracy: 0.9761\n",
            "Epoch 10/50\n",
            "1875/1875 [==============================] - 18s 9ms/step - loss: 0.0735 - accuracy: 0.9822 - val_loss: 0.1726 - val_accuracy: 0.9786\n",
            "Epoch 11/50\n",
            "1875/1875 [==============================] - 21s 11ms/step - loss: 0.0699 - accuracy: 0.9832 - val_loss: 0.1683 - val_accuracy: 0.9785\n",
            "Epoch 12/50\n",
            "1875/1875 [==============================] - 18s 10ms/step - loss: 0.0702 - accuracy: 0.9843 - val_loss: 0.1780 - val_accuracy: 0.9786\n"
          ]
        },
        {
          "output_type": "execute_result",
          "data": {
            "text/plain": [
              "<keras.src.callbacks.History at 0x7a3cc3192b00>"
            ]
          },
          "metadata": {},
          "execution_count": 35
        }
      ]
    },
    {
      "cell_type": "code",
      "source": [
        "plt.imshow(x_test[0])"
      ],
      "metadata": {
        "colab": {
          "base_uri": "https://localhost:8080/",
          "height": 447
        },
        "id": "QLN0osaoOzwv",
        "outputId": "f4307d68-3d8f-4e82-9b62-cccb83564434"
      },
      "execution_count": 46,
      "outputs": [
        {
          "output_type": "execute_result",
          "data": {
            "text/plain": [
              "<matplotlib.image.AxesImage at 0x7a3c94ebd7e0>"
            ]
          },
          "metadata": {},
          "execution_count": 46
        },
        {
          "output_type": "display_data",
          "data": {
            "text/plain": [
              "<Figure size 640x480 with 1 Axes>"
            ],
            "image/png": "[encoded data removed]"
          },
          "metadata": {}
        }
      ]
    },
    {
      "cell_type": "code",
      "source": [
        "ANN.predict(x_test[0].reshape(1,28,28)).argmax()"
      ],
      "metadata": {
        "colab": {
          "base_uri": "https://localhost:8080/"
        },
        "id": "Abtet2IQKexf",
        "outputId": "42a2eb63-345b-472f-bde9-86a435693b87"
      },
      "execution_count": 44,
      "outputs": [
        {
          "output_type": "stream",
          "name": "stdout",
          "text": [
            "1/1 [==============================] - 0s 83ms/step\n"
          ]
        },
        {
          "output_type": "execute_result",
          "data": {
            "text/plain": [
              "7"
            ]
          },
          "metadata": {},
          "execution_count": 44
        }
      ]
    },
    {
      "cell_type": "code",
      "source": [
        "y_test[0]"
      ],
      "metadata": {
        "colab": {
          "base_uri": "https://localhost:8080/"
        },
        "id": "xwMJJRh9Ocya",
        "outputId": "8dc2d26c-8f4a-468f-b67d-517a4b25fbd5"
      },
      "execution_count": 45,
      "outputs": [
        {
          "output_type": "execute_result",
          "data": {
            "text/plain": [
              "7"
            ]
          },
          "metadata": {},
          "execution_count": 45
        }
      ]
    },
    {
      "cell_type": "code",
      "source": [
        "plt.imshow(x_test[10])"
      ],
      "metadata": {
        "colab": {
          "base_uri": "https://localhost:8080/",
          "height": 447
        },
        "id": "YCZQZ1OTOkYg",
        "outputId": "75a9d41e-d972-4003-c2e2-a4647f4d5ba9"
      },
      "execution_count": 47,
      "outputs": [
        {
          "output_type": "execute_result",
          "data": {
            "text/plain": [
              "<matplotlib.image.AxesImage at 0x7a3c95fcd1b0>"
            ]
          },
          "metadata": {},
          "execution_count": 47
        },
        {
          "output_type": "display_data",
          "data": {
            "text/plain": [
              "<Figure size 640x480 with 1 Axes>"
            ],
            "image/png": "[encoded data removed]"
          },
          "metadata": {}
        }
      ]
    },
    {
      "cell_type": "code",
      "source": [
        "ANN.predict(x_test[10].reshape(1,28,28)).argmax()"
      ],
      "metadata": {
        "colab": {
          "base_uri": "https://localhost:8080/"
        },
        "id": "MtYYuvy6O6wi",
        "outputId": "a9e4833f-e724-4f54-bb36-52027c02a9b4"
      },
      "execution_count": 49,
      "outputs": [
        {
          "output_type": "stream",
          "name": "stdout",
          "text": [
            "1/1 [==============================] - 0s 86ms/step\n"
          ]
        },
        {
          "output_type": "execute_result",
          "data": {
            "text/plain": [
              "0"
            ]
          },
          "metadata": {},
          "execution_count": 49
        }
      ]
    },
    {
      "cell_type": "code",
      "source": [
        "y_test[10]"
      ],
      "metadata": {
        "colab": {
          "base_uri": "https://localhost:8080/"
        },
        "id": "uw2j3C8aO9-e",
        "outputId": "ee141d69-6e69-4e60-de8d-29f106730e1f"
      },
      "execution_count": 50,
      "outputs": [
        {
          "output_type": "execute_result",
          "data": {
            "text/plain": [
              "0"
            ]
          },
          "metadata": {},
          "execution_count": 50
        }
      ]
    },
    {
      "cell_type": "code",
      "source": [],
      "metadata": {
        "id": "s2-3h7MPPCXo"
      },
      "execution_count": null,
      "outputs": []
    }
  ]
}